{
 "cells": [
  {
   "cell_type": "code",
   "execution_count": 19,
   "metadata": {
    "collapsed": false
   },
   "outputs": [
    {
     "name": "stdout",
     "output_type": "stream",
     "text": [
      "evaluation func [ 1.52700882  1.52555046  1.52600953]\n",
      "w [ 158.  348.   79.]\n",
      "n [ 307.  479.  214.]\n",
      "[ 0.51465798  0.72651357  0.36915888]\n"
     ]
    },
    {
     "name": "stderr",
     "output_type": "stream",
     "text": [
      "/Users/hygradme/.pyenv/versions/anaconda3-4.3.1/lib/python3.6/site-packages/ipykernel/__main__.py:26: ComplexWarning: Casting complex values to real discards the imaginary part\n"
     ]
    }
   ],
   "source": [
    "import numpy as np\n",
    "import math\n",
    "import random\n",
    "\n",
    "#number of arms setup\n",
    "prob=np.array([0.5,0.7,0.4])\n",
    "num=len(prob)\n",
    "\n",
    "#state variables\n",
    "n=np.zeros(num)\n",
    "w=np.zeros(num)\n",
    "UCB_val=np.zeros(num)\n",
    "\n",
    "#evaluation function\n",
    "def Calc_UCB(t,w,n):\n",
    "    if t!=0:\n",
    "        if n!=0:\n",
    "            return w/n+(2*math.log10(t/n))**(1/2)\n",
    "        else: # if n==0\n",
    "            return float(\"inf\")\n",
    "    else:\n",
    "        return float(\"inf\")\n",
    "\n",
    "def UCB_update(UCB_val,t,w,n):\n",
    "    for i,_ in enumerate(UCB_val):\n",
    "        UCB_val[i]=Calc_UCB(t,w[i],n[i])\n",
    "    return UCB_val\n",
    "\n",
    "\n",
    "#initialize\n",
    "t=0\n",
    "UCB_val=UCB_update(UCB_val,t,w,n)\n",
    "\n",
    "#start trial\n",
    "num_trial=1000\n",
    "for t in range(0,num_trial):\n",
    "    #decision\n",
    "    index_max=np.argmax(UCB_val)\n",
    "#    print(\"t=\",t,\"choose:\",index_max,\" values=\",UCB_val)\n",
    "    #trial\n",
    "    n[index_max]+=1\n",
    "    trial=random.random()\n",
    "    if trial<=prob[index_max]:\n",
    "        w[index_max]+=1\n",
    "\n",
    "    #update evaluation function\n",
    "    UCB_val=UCB_update(UCB_val,t,w,n)\n",
    "#result\n",
    "print(\"evaluation func\",UCB_val)\n",
    "print(\"w\",w)\n",
    "print(\"n\",n)\n",
    "print(w/n)"
   ]
  },
  {
   "cell_type": "code",
   "execution_count": null,
   "metadata": {
    "collapsed": true
   },
   "outputs": [],
   "source": []
  }
 ],
 "metadata": {
  "kernelspec": {
   "display_name": "Python 3",
   "language": "python",
   "name": "python3"
  },
  "language_info": {
   "codemirror_mode": {
    "name": "ipython",
    "version": 3
   },
   "file_extension": ".py",
   "mimetype": "text/x-python",
   "name": "python",
   "nbconvert_exporter": "python",
   "pygments_lexer": "ipython3",
   "version": "3.6.0"
  }
 },
 "nbformat": 4,
 "nbformat_minor": 2
}
